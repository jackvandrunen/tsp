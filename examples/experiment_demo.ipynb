{
 "cells": [
  {
   "cell_type": "markdown",
   "metadata": {},
   "source": [
    "# Setting Up a Simple Experiment\n",
    "\n",
    "This is a complete example of how one would test a human subject on a small set of TSPs, and compare human tours to optimal (Concorde) tours. Adapted from the [documentation for the `experiment` module](https://jackv.co/tsp/tsp/experiment.html)."
   ]
  },
  {
   "cell_type": "code",
   "execution_count": 19,
   "metadata": {},
   "outputs": [],
   "source": [
    "import matplotlib.pyplot as plt\n",
    "import numpy as np\n",
    "\n",
    "from tsp.core.tsp import TSP\n",
    "from tsp.experiment.batch import save_problem_batch\n",
    "from tsp.experiment.batch_server import batch_server_run\n",
    "from tsp.experiment.batch_solver import solve_batch, score_batch_2\n",
    "from tsp.core.solvers import ConcordeSolver"
   ]
  },
  {
   "cell_type": "markdown",
   "metadata": {},
   "source": [
    "First, generate a set of problems (in this case, we will create a set of 10 20-city problems)."
   ]
  },
  {
   "cell_type": "code",
   "execution_count": 8,
   "metadata": {},
   "outputs": [],
   "source": [
    "problems = []\n",
    "for i in range(10):\n",
    "    problems.append(TSP.generate_random(20))"
   ]
  },
  {
   "cell_type": "markdown",
   "metadata": {},
   "source": [
    "Then, save the problem set in `test/problems`."
   ]
  },
  {
   "cell_type": "code",
   "execution_count": 9,
   "metadata": {},
   "outputs": [],
   "source": [
    "save_problem_batch(problems, 'test/problems')"
   ]
  },
  {
   "cell_type": "markdown",
   "metadata": {},
   "source": [
    "Now, run the UI to collect solutions from the human (the UI can be accessed at [localhost:8080](http://localhost:8080/)). Save them in `test/human`."
   ]
  },
  {
   "cell_type": "code",
   "execution_count": 10,
   "metadata": {},
   "outputs": [
    {
     "name": "stdout",
     "output_type": "stream",
     "text": [
      "Serving on http://localhost:8080 ...\n",
      "Stopping server...\n"
     ]
    }
   ],
   "source": [
    "batch_server_run('test/problems', 'test/human', randomized=False)"
   ]
  },
  {
   "cell_type": "markdown",
   "metadata": {},
   "source": [
    "Generate Concorde solutions to the problem set, saving them in `test/concorde`."
   ]
  },
  {
   "cell_type": "code",
   "execution_count": 13,
   "metadata": {},
   "outputs": [],
   "source": [
    "concorde_solutions = solve_batch('test/problems', ConcordeSolver, 'test/concorde')"
   ]
  },
  {
   "cell_type": "markdown",
   "metadata": {},
   "source": [
    "Finally, you can generate the errors when comparing the human tours to the optimal tours produced by Concorde. `errors` will store an array of the errors for the 10 problems, `mean` the mean of the 10 errors, and `ste` the standard error of the mean."
   ]
  },
  {
   "cell_type": "code",
   "execution_count": 15,
   "metadata": {},
   "outputs": [],
   "source": [
    "errors, mean, ste = score_batch_2('test/problems', 'test/human', 'test/concorde')"
   ]
  },
  {
   "cell_type": "markdown",
   "metadata": {},
   "source": [
    "Here's a simple visualization in which the problems are rank-ordered by human error, and displayed with problem number on the abscissa and error on the ordinate."
   ]
  },
  {
   "cell_type": "code",
   "execution_count": 26,
   "metadata": {},
   "outputs": [
    {
     "name": "stdout",
     "output_type": "stream",
     "text": [
      "Human Error: 0.026 +/- 0.010\n"
     ]
    },
    {
     "data": {
      "image/png": "[encoded data removed]",
      "text/plain": [
       "<Figure size 432x288 with 1 Axes>"
      ]
     },
     "metadata": {
      "needs_background": "light"
     },
     "output_type": "display_data"
    }
   ],
   "source": [
    "print(f'Human Error: {mean:.3f} +/- {ste:.3f}')\n",
    "plt.plot(np.arange(1, 11), sorted(errors), 'o-')\n",
    "plt.xticks(np.arange(1, 11))\n",
    "plt.xlabel('Problem #')\n",
    "plt.ylabel('Human Error')\n",
    "plt.show()"
   ]
  }
 ],
 "metadata": {
  "interpreter": {
   "hash": "916dbcbb3f70747c44a77c7bcd40155683ae19c65e1c03b4aa3499c5328201f1"
  },
  "kernelspec": {
   "display_name": "Python 3.8.10 64-bit",
   "name": "python3"
  },
  "language_info": {
   "codemirror_mode": {
    "name": "ipython",
    "version": 3
   },
   "file_extension": ".py",
   "mimetype": "text/x-python",
   "name": "python",
   "nbconvert_exporter": "python",
   "pygments_lexer": "ipython3",
   "version": "3.8.10"
  },
  "orig_nbformat": 4
 },
 "nbformat": 4,
 "nbformat_minor": 2
}